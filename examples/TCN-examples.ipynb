{
 "cells": [
  {
   "cell_type": "markdown",
   "metadata": {
    "papermill": {
     "duration": 0.009686,
     "end_time": "2020-07-07T09:42:25.082953",
     "exception": false,
     "start_time": "2020-07-07T09:42:25.073267",
     "status": "completed"
    },
    "tags": []
   },
   "source": [
    "# Temporal Convolutional Network\n",
    "In this notebook, we show an example of how TCNs can be used with darts."
   ]
  },
  {
   "cell_type": "code",
   "execution_count": 1,
   "metadata": {
    "execution": {
     "iopub.execute_input": "2020-07-07T09:42:25.103767Z",
     "iopub.status.busy": "2020-07-07T09:42:25.103097Z",
     "iopub.status.idle": "2020-07-07T09:42:26.373366Z",
     "shell.execute_reply": "2020-07-07T09:42:26.373858Z"
    },
    "papermill": {
     "duration": 1.282463,
     "end_time": "2020-07-07T09:42:26.374025",
     "exception": false,
     "start_time": "2020-07-07T09:42:25.091562",
     "status": "completed"
    },
    "tags": []
   },
   "outputs": [
    {
     "name": "stderr",
     "output_type": "stream",
     "text": [
      "Importing plotly failed. Interactive plots will not work.\n"
     ]
    }
   ],
   "source": [
    "import numpy as np\n",
    "import pandas as pd\n",
    "import matplotlib.pyplot as plt\n",
    "\n",
    "from darts import TimeSeries\n",
    "from darts.models.tcn_model import TCNModel\n",
    "from darts.preprocessing import ScalerWrapper\n",
    "from darts.metrics import mape\n",
    "from darts.utils.missing_values import auto_fillna\n",
    "from darts.backtesting import backtest_forecasting"
   ]
  },
  {
   "cell_type": "markdown",
   "metadata": {
    "papermill": {
     "duration": 0.005838,
     "end_time": "2020-07-07T09:42:26.386711",
     "exception": false,
     "start_time": "2020-07-07T09:42:26.380873",
     "status": "completed"
    },
    "tags": []
   },
   "source": [
    "## Air Passengers Dataset\n",
    "Since this dataset contains strong yearly seasonality, we will enhance our univariate time series of air passengers to a 13-dimensional multivariate time series containing a one-hot encoded component that for every month."
   ]
  },
  {
   "cell_type": "code",
   "execution_count": 2,
   "metadata": {
    "execution": {
     "iopub.execute_input": "2020-07-07T09:42:26.406416Z",
     "iopub.status.busy": "2020-07-07T09:42:26.405904Z",
     "iopub.status.idle": "2020-07-07T09:42:26.419637Z",
     "shell.execute_reply": "2020-07-07T09:42:26.420021Z"
    },
    "papermill": {
     "duration": 0.027984,
     "end_time": "2020-07-07T09:42:26.420154",
     "exception": false,
     "start_time": "2020-07-07T09:42:26.392170",
     "status": "completed"
    },
    "tags": []
   },
   "outputs": [],
   "source": [
    "# Read data:\n",
    "df = pd.read_csv('examples/AirPassengers.csv', delimiter=\",\")\n",
    "ts = TimeSeries.from_dataframe(df, 'Month', ['#Passengers']).add_datetime_attribute('month', True)\n",
    "\n",
    "# Create training and validation sets:\n",
    "train, val = ts.split_after(pd.Timestamp('19580801'))"
   ]
  },
  {
   "cell_type": "code",
   "execution_count": 3,
   "metadata": {
    "execution": {
     "iopub.execute_input": "2020-07-07T09:42:26.440932Z",
     "iopub.status.busy": "2020-07-07T09:42:26.440324Z",
     "iopub.status.idle": "2020-07-07T09:42:26.443297Z",
     "shell.execute_reply": "2020-07-07T09:42:26.443708Z"
    },
    "papermill": {
     "duration": 0.017854,
     "end_time": "2020-07-07T09:42:26.443868",
     "exception": false,
     "start_time": "2020-07-07T09:42:26.426014",
     "status": "completed"
    },
    "tags": []
   },
   "outputs": [],
   "source": [
    "transformer = ScalerWrapper()\n",
    "train_transformed = transformer.fit_transform(train)\n",
    "val_transformed = transformer.transform(val)\n",
    "ts_transformed = transformer.transform(ts)"
   ]
  },
  {
   "cell_type": "markdown",
   "metadata": {
    "papermill": {
     "duration": 0.006895,
     "end_time": "2020-07-07T09:42:26.457717",
     "exception": false,
     "start_time": "2020-07-07T09:42:26.450822",
     "status": "completed"
    },
    "tags": []
   },
   "source": [
    "When instantiating the model, we have to make sure to account for every dimension in the training time series in `input_size`. In this case, since we add a new component for every month, we have a value of 13.\n",
    "Additionally, since we later want to simulate a historic forecast 6 months into the future, we have to make sure the `output_length` parameter of our `TCNModel` instance has a value of at least 6. \n",
    "\n",
    "All the other parameters were chosen by trying out a few different combinations, but they are probably still far from the ideal set.\n",
    "If we don't specify the `num_layers` parameter, it will be chosen automatically to be the minimum number to ensure full history coverage for every entry in the output, i.e. every output will be dependent on the whole input."
   ]
  },
  {
   "cell_type": "code",
   "execution_count": 4,
   "metadata": {
    "execution": {
     "iopub.execute_input": "2020-07-07T09:42:26.474576Z",
     "iopub.status.busy": "2020-07-07T09:42:26.474003Z",
     "iopub.status.idle": "2020-07-07T09:42:26.478835Z",
     "shell.execute_reply": "2020-07-07T09:42:26.479313Z"
    },
    "papermill": {
     "duration": 0.015047,
     "end_time": "2020-07-07T09:42:26.479451",
     "exception": false,
     "start_time": "2020-07-07T09:42:26.464404",
     "status": "completed"
    },
    "tags": []
   },
   "outputs": [
    {
     "name": "stderr",
     "output_type": "stream",
     "text": [
      "[2020-07-07 11:42:26,472] INFO | darts.models.tcn_model | Number of layers chosen: 2\n"
     ]
    }
   ],
   "source": [
    "model_air = TCNModel(\n",
    "    input_size=13,\n",
    "    n_epochs=1000, \n",
    "    input_length=20, \n",
    "    output_length=6, \n",
    "    dropout=0.1, \n",
    "    dilation_base=2, \n",
    "    weight_norm=True,\n",
    "    kernel_size=5,\n",
    "    num_filters=3\n",
    ")"
   ]
  },
  {
   "cell_type": "code",
   "execution_count": 5,
   "metadata": {
    "execution": {
     "iopub.execute_input": "2020-07-07T09:42:26.496347Z",
     "iopub.status.busy": "2020-07-07T09:42:26.495694Z",
     "iopub.status.idle": "2020-07-07T09:42:39.833689Z",
     "shell.execute_reply": "2020-07-07T09:42:39.833273Z"
    },
    "papermill": {
     "duration": 13.347484,
     "end_time": "2020-07-07T09:42:39.833816",
     "exception": false,
     "start_time": "2020-07-07T09:42:26.486332",
     "status": "completed"
    },
    "tags": []
   },
   "outputs": [
    {
     "data": {
      "application/vnd.jupyter.widget-view+json": {
       "model_id": "fe7c0eed84c3451c821721535e0f1884",
       "version_major": 2,
       "version_minor": 0
      },
      "text/plain": [
       "HBox(children=(FloatProgress(value=0.0, max=1000.0), HTML(value='')))"
      ]
     },
     "metadata": {},
     "output_type": "display_data"
    },
    {
     "name": "stderr",
     "output_type": "stream",
     "text": [
      "/Users/guillaume/.pyenv/versions/3.8.3/lib/python3.8/site-packages/torch/storage.py:34: FutureWarning: pickle support for Storage will be removed in 1.5. Use `torch.save` instead\n",
      "  warnings.warn(\"pickle support for Storage will be removed in 1.5. Use `torch.save` instead\", FutureWarning)\n"
     ]
    },
    {
     "name": "stdout",
     "output_type": "stream",
     "text": [
      "Training loss: 0.1658, validation loss: 0.7175\r",
      "Training loss: 0.1190, validation loss: 0.4418\r"
     ]
    },
    {
     "name": "stdout",
     "output_type": "stream",
     "text": [
      "Training loss: 0.0841, validation loss: 0.3927\r",
      "Training loss: 0.0741, validation loss: 0.3261\r"
     ]
    },
    {
     "name": "stdout",
     "output_type": "stream",
     "text": [
      "Training loss: 0.0588, validation loss: 0.2830\r",
      "Training loss: 0.0555, validation loss: 0.2464\r"
     ]
    },
    {
     "name": "stdout",
     "output_type": "stream",
     "text": [
      "Training loss: 0.0508, validation loss: 0.2269\r",
      "Training loss: 0.0447, validation loss: 0.2011\r"
     ]
    },
    {
     "name": "stdout",
     "output_type": "stream",
     "text": [
      "Training loss: 0.0422, validation loss: 0.1787\r",
      "Training loss: 0.0355, validation loss: 0.1489\r"
     ]
    },
    {
     "name": "stdout",
     "output_type": "stream",
     "text": [
      "Training loss: 0.0304, validation loss: 0.1202\r",
      "Training loss: 0.0309, validation loss: 0.1030\r"
     ]
    },
    {
     "name": "stdout",
     "output_type": "stream",
     "text": [
      "Training loss: 0.0233, validation loss: 0.0943\r",
      "Training loss: 0.0216, validation loss: 0.0805\r"
     ]
    },
    {
     "name": "stdout",
     "output_type": "stream",
     "text": [
      "Training loss: 0.0238, validation loss: 0.0696\r",
      "Training loss: 0.0241, validation loss: 0.0653\r"
     ]
    },
    {
     "name": "stdout",
     "output_type": "stream",
     "text": [
      "Training loss: 0.0223, validation loss: 0.0586\r",
      "Training loss: 0.0165, validation loss: 0.0544\r"
     ]
    },
    {
     "name": "stdout",
     "output_type": "stream",
     "text": [
      "Training loss: 0.0178, validation loss: 0.0523\r",
      "Training loss: 0.0172, validation loss: 0.0481\r"
     ]
    },
    {
     "name": "stdout",
     "output_type": "stream",
     "text": [
      "Training loss: 0.0164, validation loss: 0.0451\r",
      "Training loss: 0.0132, validation loss: 0.0433\r"
     ]
    },
    {
     "name": "stdout",
     "output_type": "stream",
     "text": [
      "Training loss: 0.0142, validation loss: 0.0410\r",
      "Training loss: 0.0124, validation loss: 0.0390\r"
     ]
    },
    {
     "name": "stdout",
     "output_type": "stream",
     "text": [
      "Training loss: 0.0115, validation loss: 0.0371\r",
      "Training loss: 0.0111, validation loss: 0.0359\r"
     ]
    },
    {
     "name": "stdout",
     "output_type": "stream",
     "text": [
      "Training loss: 0.0097, validation loss: 0.0343\r",
      "Training loss: 0.0092, validation loss: 0.0320\r"
     ]
    },
    {
     "name": "stdout",
     "output_type": "stream",
     "text": [
      "Training loss: 0.0094, validation loss: 0.0300\r",
      "Training loss: 0.0076, validation loss: 0.0296\r"
     ]
    },
    {
     "name": "stdout",
     "output_type": "stream",
     "text": [
      "Training loss: 0.0081, validation loss: 0.0276\r",
      "Training loss: 0.0070, validation loss: 0.0255\r"
     ]
    },
    {
     "name": "stdout",
     "output_type": "stream",
     "text": [
      "Training loss: 0.0072, validation loss: 0.0239\r",
      "Training loss: 0.0064, validation loss: 0.0228\r"
     ]
    },
    {
     "name": "stdout",
     "output_type": "stream",
     "text": [
      "Training loss: 0.0063, validation loss: 0.0223\r",
      "Training loss: 0.0043, validation loss: 0.0217\r"
     ]
    },
    {
     "name": "stdout",
     "output_type": "stream",
     "text": [
      "Training loss: 0.0050, validation loss: 0.0201\r",
      "Training loss: 0.0043, validation loss: 0.0195\r"
     ]
    },
    {
     "name": "stdout",
     "output_type": "stream",
     "text": [
      "Training loss: 0.0047, validation loss: 0.0185\r",
      "Training loss: 0.0038, validation loss: 0.0176\r"
     ]
    },
    {
     "name": "stdout",
     "output_type": "stream",
     "text": [
      "Training loss: 0.0035, validation loss: 0.0171\r",
      "Training loss: 0.0038, validation loss: 0.0165\r"
     ]
    },
    {
     "name": "stdout",
     "output_type": "stream",
     "text": [
      "Training loss: 0.0034, validation loss: 0.0158\r",
      "Training loss: 0.0033, validation loss: 0.0159\r"
     ]
    },
    {
     "name": "stdout",
     "output_type": "stream",
     "text": [
      "Training loss: 0.0037, validation loss: 0.0153\r",
      "Training loss: 0.0037, validation loss: 0.0151\r"
     ]
    },
    {
     "name": "stdout",
     "output_type": "stream",
     "text": [
      "Training loss: 0.0033, validation loss: 0.0145\r",
      "Training loss: 0.0033, validation loss: 0.0145\r"
     ]
    },
    {
     "name": "stdout",
     "output_type": "stream",
     "text": [
      "Training loss: 0.0033, validation loss: 0.0141\r",
      "Training loss: 0.0029, validation loss: 0.0139\r"
     ]
    },
    {
     "name": "stdout",
     "output_type": "stream",
     "text": [
      "Training loss: 0.0030, validation loss: 0.0136\r",
      "Training loss: 0.0034, validation loss: 0.0136\r"
     ]
    },
    {
     "name": "stdout",
     "output_type": "stream",
     "text": [
      "Training loss: 0.0030, validation loss: 0.0133\r",
      "Training loss: 0.0029, validation loss: 0.0130\r"
     ]
    },
    {
     "name": "stdout",
     "output_type": "stream",
     "text": [
      "Training loss: 0.0031, validation loss: 0.0132\r",
      "Training loss: 0.0028, validation loss: 0.0131\r"
     ]
    },
    {
     "name": "stdout",
     "output_type": "stream",
     "text": [
      "Training loss: 0.0030, validation loss: 0.0132\r",
      "Training loss: 0.0027, validation loss: 0.0128\r"
     ]
    },
    {
     "name": "stdout",
     "output_type": "stream",
     "text": [
      "Training loss: 0.0025, validation loss: 0.0125\r",
      "Training loss: 0.0028, validation loss: 0.0125\r"
     ]
    },
    {
     "name": "stdout",
     "output_type": "stream",
     "text": [
      "Training loss: 0.0026, validation loss: 0.0126\r",
      "Training loss: 0.0030, validation loss: 0.0128\r"
     ]
    },
    {
     "name": "stdout",
     "output_type": "stream",
     "text": [
      "Training loss: 0.0028, validation loss: 0.0125\r",
      "Training loss: 0.0031, validation loss: 0.0125\r"
     ]
    },
    {
     "name": "stdout",
     "output_type": "stream",
     "text": [
      "Training loss: 0.0026, validation loss: 0.0124\r",
      "Training loss: 0.0026, validation loss: 0.0126\r"
     ]
    },
    {
     "name": "stdout",
     "output_type": "stream",
     "text": [
      "Training loss: 0.0026, validation loss: 0.0124\r",
      "Training loss: 0.0026, validation loss: 0.0122\r"
     ]
    },
    {
     "name": "stdout",
     "output_type": "stream",
     "text": [
      "Training loss: 0.0027, validation loss: 0.0125\r",
      "Training loss: 0.0030, validation loss: 0.0129\r"
     ]
    },
    {
     "name": "stdout",
     "output_type": "stream",
     "text": [
      "Training loss: 0.0026, validation loss: 0.0124\r",
      "Training loss: 0.0029, validation loss: 0.0124\r"
     ]
    },
    {
     "name": "stdout",
     "output_type": "stream",
     "text": [
      "Training loss: 0.0026, validation loss: 0.0124\r",
      "Training loss: 0.0027, validation loss: 0.0123\r"
     ]
    },
    {
     "name": "stdout",
     "output_type": "stream",
     "text": [
      "Training loss: 0.0023, validation loss: 0.0121\r",
      "Training loss: 0.0028, validation loss: 0.0119\r"
     ]
    },
    {
     "name": "stdout",
     "output_type": "stream",
     "text": [
      "Training loss: 0.0027, validation loss: 0.0121\r",
      "Training loss: 0.0027, validation loss: 0.0119\r"
     ]
    },
    {
     "name": "stdout",
     "output_type": "stream",
     "text": [
      "Training loss: 0.0027, validation loss: 0.0117\r",
      "Training loss: 0.0028, validation loss: 0.0120\r"
     ]
    },
    {
     "name": "stdout",
     "output_type": "stream",
     "text": [
      "Training loss: 0.0024, validation loss: 0.0121\r",
      "Training loss: 0.0026, validation loss: 0.0121\r"
     ]
    },
    {
     "name": "stdout",
     "output_type": "stream",
     "text": [
      "Training loss: 0.0026, validation loss: 0.0120\r",
      "Training loss: 0.0026, validation loss: 0.0123\r"
     ]
    },
    {
     "name": "stdout",
     "output_type": "stream",
     "text": [
      "Training loss: 0.0027, validation loss: 0.0115\r",
      "Training loss: 0.0028, validation loss: 0.0116\r"
     ]
    },
    {
     "name": "stdout",
     "output_type": "stream",
     "text": [
      "Training loss: 0.0025, validation loss: 0.0116\r",
      "Training loss: 0.0026, validation loss: 0.0115\r"
     ]
    },
    {
     "name": "stdout",
     "output_type": "stream",
     "text": [
      "Training loss: 0.0028, validation loss: 0.0110\r",
      "Training loss: 0.0026, validation loss: 0.0116\r"
     ]
    },
    {
     "name": "stdout",
     "output_type": "stream",
     "text": [
      "Training loss: 0.0024, validation loss: 0.0117\r",
      "Training loss: 0.0027, validation loss: 0.0117\r"
     ]
    },
    {
     "name": "stdout",
     "output_type": "stream",
     "text": [
      "Training loss: 0.0026, validation loss: 0.0111\r",
      "Training loss: 0.0022, validation loss: 0.0113\r"
     ]
    },
    {
     "name": "stdout",
     "output_type": "stream",
     "text": [
      "Training loss: 0.0025, validation loss: 0.0112\r",
      "Training loss: 0.0027, validation loss: 0.0113\r"
     ]
    },
    {
     "name": "stdout",
     "output_type": "stream",
     "text": [
      "Training loss: 0.0027, validation loss: 0.0111\r",
      "Training loss: 0.0028, validation loss: 0.0113\r"
     ]
    },
    {
     "name": "stdout",
     "output_type": "stream",
     "text": [
      "Training loss: 0.0026, validation loss: 0.0112\r",
      "Training loss: 0.0026, validation loss: 0.0116\r"
     ]
    },
    {
     "name": "stdout",
     "output_type": "stream",
     "text": [
      "\n"
     ]
    }
   ],
   "source": [
    "model_air.fit(train_transformed, target_indices=[0], val_series=val_transformed, verbose=True)"
   ]
  },
  {
   "cell_type": "code",
   "execution_count": 6,
   "metadata": {
    "execution": {
     "iopub.execute_input": "2020-07-07T09:42:39.877227Z",
     "iopub.status.busy": "2020-07-07T09:42:39.876696Z",
     "iopub.status.idle": "2020-07-07T09:42:40.228338Z",
     "shell.execute_reply": "2020-07-07T09:42:40.228891Z"
    },
    "papermill": {
     "duration": 0.377435,
     "end_time": "2020-07-07T09:42:40.229028",
     "exception": false,
     "start_time": "2020-07-07T09:42:39.851593",
     "status": "completed"
    },
    "tags": []
   },
   "outputs": [
    {
     "data": {
      "image/png": "[encoded data removed]",
      "text/plain": [
       "<Figure size 576x360 with 1 Axes>"
      ]
     },
     "metadata": {
      "needs_background": "light"
     },
     "output_type": "display_data"
    }
   ],
   "source": [
    "pred_series = backtest_forecasting(\n",
    "    ts_transformed, \n",
    "    model_air,\n",
    "    pd.Timestamp('19580801'), \n",
    "    6,\n",
    "    target_indices=[0],\n",
    "    retrain=False\n",
    ")\n",
    "plt.figure(figsize=(8,5))\n",
    "ts_transformed.univariate_component(0).plot(label='actual')\n",
    "pred_series.plot(label='historic 6 month forecasts')\n",
    "plt.title('MAPE: {}'.format(mape(pred_series.slice_intersect(ts_transformed.univariate_component(0)), val_transformed.univariate_component(0))))\n",
    "plt.legend();"
   ]
  },
  {
   "cell_type": "markdown",
   "metadata": {
    "papermill": {
     "duration": 0.017653,
     "end_time": "2020-07-07T09:42:40.264433",
     "exception": false,
     "start_time": "2020-07-07T09:42:40.246780",
     "status": "completed"
    },
    "tags": []
   },
   "source": [
    "## Monthly Sunspots\n",
    "Let's try using the `TCNModel` on a more complex and much bigger dataset."
   ]
  },
  {
   "cell_type": "code",
   "execution_count": 7,
   "metadata": {
    "execution": {
     "iopub.execute_input": "2020-07-07T09:42:40.304539Z",
     "iopub.status.busy": "2020-07-07T09:42:40.304010Z",
     "iopub.status.idle": "2020-07-07T09:42:40.364396Z",
     "shell.execute_reply": "2020-07-07T09:42:40.364767Z"
    },
    "papermill": {
     "duration": 0.081893,
     "end_time": "2020-07-07T09:42:40.364952",
     "exception": false,
     "start_time": "2020-07-07T09:42:40.283059",
     "status": "completed"
    },
    "tags": []
   },
   "outputs": [],
   "source": [
    "df2 = pd.read_csv('examples/monthly-sunspots.csv', delimiter=\",\")\n",
    "series_sunspot = TimeSeries.from_dataframe(df2, 'Month', ['Sunspots'])\n",
    "series_sunspot = series_sunspot.add_datetime_attribute('month', True)\n",
    "train_sp, val_sp = series_sunspot.split_after(pd.Timestamp('19401001'))\n",
    "\n",
    "transformer_sunspot = ScalerWrapper()\n",
    "train_sp_transformed = transformer_sunspot.fit_transform(train_sp)\n",
    "val_sp_transformed = transformer_sunspot.transform(val_sp)\n",
    "series_sp_transformed = transformer.transform(series_sunspot)"
   ]
  },
  {
   "cell_type": "code",
   "execution_count": 8,
   "metadata": {
    "execution": {
     "iopub.execute_input": "2020-07-07T09:42:40.407963Z",
     "iopub.status.busy": "2020-07-07T09:42:40.407217Z",
     "iopub.status.idle": "2020-07-07T09:42:40.413816Z",
     "shell.execute_reply": "2020-07-07T09:42:40.414269Z"
    },
    "papermill": {
     "duration": 0.028726,
     "end_time": "2020-07-07T09:42:40.414416",
     "exception": false,
     "start_time": "2020-07-07T09:42:40.385690",
     "status": "completed"
    },
    "tags": []
   },
   "outputs": [
    {
     "name": "stderr",
     "output_type": "stream",
     "text": [
      "[2020-07-07 11:42:40,406] INFO | darts.models.tcn_model | Number of layers chosen: 6\n"
     ]
    }
   ],
   "source": [
    "model_sun = TCNModel(\n",
    "    input_size=13,\n",
    "    n_epochs=10, \n",
    "    input_length=250,\n",
    "    output_length=36, \n",
    "    dropout=0, \n",
    "    dilation_base=2, \n",
    "    weight_norm=True,\n",
    "    kernel_size=3,\n",
    "    num_filters=6,\n",
    "    nr_epochs_val_period=1\n",
    ")"
   ]
  },
  {
   "cell_type": "code",
   "execution_count": 9,
   "metadata": {
    "execution": {
     "iopub.execute_input": "2020-07-07T09:42:40.462169Z",
     "iopub.status.busy": "2020-07-07T09:42:40.461450Z",
     "iopub.status.idle": "2020-07-07T09:42:56.327037Z",
     "shell.execute_reply": "2020-07-07T09:42:56.326649Z"
    },
    "papermill": {
     "duration": 15.892661,
     "end_time": "2020-07-07T09:42:56.327150",
     "exception": false,
     "start_time": "2020-07-07T09:42:40.434489",
     "status": "completed"
    },
    "tags": []
   },
   "outputs": [
    {
     "data": {
      "application/vnd.jupyter.widget-view+json": {
       "model_id": "4e63d6cc06a049d0b13b0b058f75be94",
       "version_major": 2,
       "version_minor": 0
      },
      "text/plain": [
       "HBox(children=(FloatProgress(value=0.0, max=10.0), HTML(value='')))"
      ]
     },
     "metadata": {},
     "output_type": "display_data"
    },
    {
     "name": "stderr",
     "output_type": "stream",
     "text": [
      "/Users/guillaume/.pyenv/versions/3.8.3/lib/python3.8/site-packages/torch/storage.py:34: FutureWarning: pickle support for Storage will be removed in 1.5. Use `torch.save` instead\n",
      "  warnings.warn(\"pickle support for Storage will be removed in 1.5. Use `torch.save` instead\", FutureWarning)\n"
     ]
    },
    {
     "name": "stdout",
     "output_type": "stream",
     "text": [
      "Training loss: 0.0524, validation loss: 0.0796\r"
     ]
    },
    {
     "name": "stdout",
     "output_type": "stream",
     "text": [
      "Training loss: 0.0361, validation loss: 0.0779\r"
     ]
    },
    {
     "name": "stdout",
     "output_type": "stream",
     "text": [
      "Training loss: 0.0348, validation loss: 0.0720\r"
     ]
    },
    {
     "name": "stdout",
     "output_type": "stream",
     "text": [
      "Training loss: 0.0331, validation loss: 0.0672\r"
     ]
    },
    {
     "name": "stdout",
     "output_type": "stream",
     "text": [
      "Training loss: 0.0311, validation loss: 0.0522\r"
     ]
    },
    {
     "name": "stdout",
     "output_type": "stream",
     "text": [
      "Training loss: 0.0292, validation loss: 0.0512\r"
     ]
    },
    {
     "name": "stdout",
     "output_type": "stream",
     "text": [
      "Training loss: 0.0284, validation loss: 0.0496\r"
     ]
    },
    {
     "name": "stdout",
     "output_type": "stream",
     "text": [
      "Training loss: 0.0280, validation loss: 0.0464\r"
     ]
    },
    {
     "name": "stdout",
     "output_type": "stream",
     "text": [
      "Training loss: 0.0274, validation loss: 0.0489\r"
     ]
    },
    {
     "name": "stdout",
     "output_type": "stream",
     "text": [
      "Training loss: 0.0267, validation loss: 0.0495\r\n"
     ]
    }
   ],
   "source": [
    "model_sun.fit(train_sp_transformed, val_sp_transformed, target_indices=[0], verbose=True)"
   ]
  },
  {
   "cell_type": "code",
   "execution_count": 10,
   "metadata": {
    "execution": {
     "iopub.execute_input": "2020-07-07T09:42:56.386445Z",
     "iopub.status.busy": "2020-07-07T09:42:56.382364Z",
     "iopub.status.idle": "2020-07-07T09:42:57.746531Z",
     "shell.execute_reply": "2020-07-07T09:42:57.746884Z"
    },
    "papermill": {
     "duration": 1.398896,
     "end_time": "2020-07-07T09:42:57.747012",
     "exception": false,
     "start_time": "2020-07-07T09:42:56.348116",
     "status": "completed"
    },
    "tags": []
   },
   "outputs": [
    {
     "data": {
      "application/vnd.jupyter.widget-view+json": {
       "model_id": "40b915d7f7e142ccbdb6a038bcff9f5d",
       "version_major": 2,
       "version_minor": 0
      },
      "text/plain": [
       "HBox(children=(FloatProgress(value=0.0, max=81.0), HTML(value='')))"
      ]
     },
     "metadata": {},
     "output_type": "display_data"
    },
    {
     "name": "stdout",
     "output_type": "stream",
     "text": [
      "\n"
     ]
    }
   ],
   "source": [
    "pred_series = backtest_forecasting(\n",
    "    series_sp_transformed, \n",
    "    model_sun,\n",
    "    pd.Timestamp('19401001'), \n",
    "    36,\n",
    "    target_indices=[0],\n",
    "    stride=6,\n",
    "    retrain=False,\n",
    "    verbose=True\n",
    ")"
   ]
  },
  {
   "cell_type": "code",
   "execution_count": 11,
   "metadata": {
    "execution": {
     "iopub.execute_input": "2020-07-07T09:42:57.802386Z",
     "iopub.status.busy": "2020-07-07T09:42:57.801832Z",
     "iopub.status.idle": "2020-07-07T09:42:57.992607Z",
     "shell.execute_reply": "2020-07-07T09:42:57.992974Z"
    },
    "papermill": {
     "duration": 0.225862,
     "end_time": "2020-07-07T09:42:57.993107",
     "exception": false,
     "start_time": "2020-07-07T09:42:57.767245",
     "status": "completed"
    },
    "tags": []
   },
   "outputs": [
    {
     "name": "stderr",
     "output_type": "stream",
     "text": [
      "[2020-07-07 11:42:57,858] WARNING | darts.timeseries | The inferred frequency does not match the value of the \"freq\" argument.\n"
     ]
    },
    {
     "data": {
      "text/plain": [
       "<matplotlib.legend.Legend at 0x141a02f70>"
      ]
     },
     "execution_count": 11,
     "metadata": {},
     "output_type": "execute_result"
    },
    {
     "data": {
      "image/png": "[encoded data removed]",
      "text/plain": [
       "<Figure size 576x360 with 1 Axes>"
      ]
     },
     "metadata": {
      "needs_background": "light"
     },
     "output_type": "display_data"
    }
   ],
   "source": [
    "plt.figure(figsize=(8,5))\n",
    "series_sp_transformed.drop_before(pd.Timestamp('19201001')).univariate_component(0).plot(label='actual')\n",
    "pred_series.plot(label='historic 3 year forecasts')\n",
    "plt.title('MAPE: {}'.format(mape(pred_series, val_sp_transformed.univariate_component(0))))\n",
    "plt.legend()"
   ]
  }
 ],
 "metadata": {
  "kernelspec": {
   "display_name": "Python 3",
   "language": "python",
   "name": "python3"
  },
  "language_info": {
   "codemirror_mode": {
    "name": "ipython",
    "version": 3
   },
   "file_extension": ".py",
   "mimetype": "text/x-python",
   "name": "python",
   "nbconvert_exporter": "python",
   "pygments_lexer": "ipython3",
   "version": "3.8.3"
  },
  "papermill": {
   "duration": 34.26221,
   "end_time": "2020-07-07T09:42:58.541940",
   "environment_variables": {},
   "exception": null,
   "input_path": "examples/TCN-examples.ipynb",
   "output_path": "examples/TCN-examples.ipynb",
   "parameters": {},
   "start_time": "2020-07-07T09:42:24.279730",
   "version": "2.1.2"
  },
  "widgets": {
   "application/vnd.jupyter.widget-state+json": {
    "state": {
     "02daa798243c4828a899e886c636420b": {
      "model_module": "@jupyter-widgets/base",
      "model_module_version": "1.2.0",
      "model_name": "LayoutModel",
      "state": {
       "_model_module": "@jupyter-widgets/base",
       "_model_module_version": "1.2.0",
       "_model_name": "LayoutModel",
       "_view_count": null,
       "_view_module": "@jupyter-widgets/base",
       "_view_module_version": "1.2.0",
       "_view_name": "LayoutView",
       "align_content": null,
       "align_items": null,
       "align_self": null,
       "border": null,
       "bottom": null,
       "display": null,
       "flex": null,
       "flex_flow": null,
       "grid_area": null,
       "grid_auto_columns": null,
       "grid_auto_flow": null,
       "grid_auto_rows": null,
       "grid_column": null,
       "grid_gap": null,
       "grid_row": null,
       "grid_template_areas": null,
       "grid_template_columns": null,
       "grid_template_rows": null,
       "height": null,
       "justify_content": null,
       "justify_items": null,
       "left": null,
       "margin": null,
       "max_height": null,
       "max_width": null,
       "min_height": null,
       "min_width": null,
       "object_fit": null,
       "object_position": null,
       "order": null,
       "overflow": null,
       "overflow_x": null,
       "overflow_y": null,
       "padding": null,
       "right": null,
       "top": null,
       "visibility": null,
       "width": null
      }
     },
     "03ae950841264401b73d994677d65689": {
      "model_module": "@jupyter-widgets/controls",
      "model_module_version": "1.5.0",
      "model_name": "HTMLModel",
      "state": {
       "_dom_classes": [],
       "_model_module": "@jupyter-widgets/controls",
       "_model_module_version": "1.5.0",
       "_model_name": "HTMLModel",
       "_view_count": null,
       "_view_module": "@jupyter-widgets/controls",
       "_view_module_version": "1.5.0",
       "_view_name": "HTMLView",
       "description": "",
       "description_tooltip": null,
       "layout": "IPY_MODEL_3bbd750d589e48f4a6487f87ef01ecd9",
       "placeholder": "​",
       "style": "IPY_MODEL_06c120c2cb334a279e8cdb2b70c302f8",
       "value": " 81/81 [00:01&lt;00:00, 55.75it/s]"
      }
     },
     "06c120c2cb334a279e8cdb2b70c302f8": {
      "model_module": "@jupyter-widgets/controls",
      "model_module_version": "1.5.0",
      "model_name": "DescriptionStyleModel",
      "state": {
       "_model_module": "@jupyter-widgets/controls",
       "_model_module_version": "1.5.0",
       "_model_name": "DescriptionStyleModel",
       "_view_count": null,
       "_view_module": "@jupyter-widgets/base",
       "_view_module_version": "1.2.0",
       "_view_name": "StyleView",
       "description_width": ""
      }
     },
     "0dadd60243224e66845ccd36820a3784": {
      "model_module": "@jupyter-widgets/base",
      "model_module_version": "1.2.0",
      "model_name": "LayoutModel",
      "state": {
       "_model_module": "@jupyter-widgets/base",
       "_model_module_version": "1.2.0",
       "_model_name": "LayoutModel",
       "_view_count": null,
       "_view_module": "@jupyter-widgets/base",
       "_view_module_version": "1.2.0",
       "_view_name": "LayoutView",
       "align_content": null,
       "align_items": null,
       "align_self": null,
       "border": null,
       "bottom": null,
       "display": null,
       "flex": null,
       "flex_flow": null,
       "grid_area": null,
       "grid_auto_columns": null,
       "grid_auto_flow": null,
       "grid_auto_rows": null,
       "grid_column": null,
       "grid_gap": null,
       "grid_row": null,
       "grid_template_areas": null,
       "grid_template_columns": null,
       "grid_template_rows": null,
       "height": null,
       "justify_content": null,
       "justify_items": null,
       "left": null,
       "margin": null,
       "max_height": null,
       "max_width": null,
       "min_height": null,
       "min_width": null,
       "object_fit": null,
       "object_position": null,
       "order": null,
       "overflow": null,
       "overflow_x": null,
       "overflow_y": null,
       "padding": null,
       "right": null,
       "top": null,
       "visibility": null,
       "width": null
      }
     },
     "34e92f52a8d74c168682c26bd4a1972d": {
      "model_module": "@jupyter-widgets/base",
      "model_module_version": "1.2.0",
      "model_name": "LayoutModel",
      "state": {
       "_model_module": "@jupyter-widgets/base",
       "_model_module_version": "1.2.0",
       "_model_name": "LayoutModel",
       "_view_count": null,
       "_view_module": "@jupyter-widgets/base",
       "_view_module_version": "1.2.0",
       "_view_name": "LayoutView",
       "align_content": null,
       "align_items": null,
       "align_self": null,
       "border": null,
       "bottom": null,
       "display": null,
       "flex": null,
       "flex_flow": null,
       "grid_area": null,
       "grid_auto_columns": null,
       "grid_auto_flow": null,
       "grid_auto_rows": null,
       "grid_column": null,
       "grid_gap": null,
       "grid_row": null,
       "grid_template_areas": null,
       "grid_template_columns": null,
       "grid_template_rows": null,
       "height": null,
       "justify_content": null,
       "justify_items": null,
       "left": null,
       "margin": null,
       "max_height": null,
       "max_width": null,
       "min_height": null,
       "min_width": null,
       "object_fit": null,
       "object_position": null,
       "order": null,
       "overflow": null,
       "overflow_x": null,
       "overflow_y": null,
       "padding": null,
       "right": null,
       "top": null,
       "visibility": null,
       "width": null
      }
     },
     "3bbd750d589e48f4a6487f87ef01ecd9": {
      "model_module": "@jupyter-widgets/base",
      "model_module_version": "1.2.0",
      "model_name": "LayoutModel",
      "state": {
       "_model_module": "@jupyter-widgets/base",
       "_model_module_version": "1.2.0",
       "_model_name": "LayoutModel",
       "_view_count": null,
       "_view_module": "@jupyter-widgets/base",
       "_view_module_version": "1.2.0",
       "_view_name": "LayoutView",
       "align_content": null,
       "align_items": null,
       "align_self": null,
       "border": null,
       "bottom": null,
       "display": null,
       "flex": null,
       "flex_flow": null,
       "grid_area": null,
       "grid_auto_columns": null,
       "grid_auto_flow": null,
       "grid_auto_rows": null,
       "grid_column": null,
       "grid_gap": null,
       "grid_row": null,
       "grid_template_areas": null,
       "grid_template_columns": null,
       "grid_template_rows": null,
       "height": null,
       "justify_content": null,
       "justify_items": null,
       "left": null,
       "margin": null,
       "max_height": null,
       "max_width": null,
       "min_height": null,
       "min_width": null,
       "object_fit": null,
       "object_position": null,
       "order": null,
       "overflow": null,
       "overflow_x": null,
       "overflow_y": null,
       "padding": null,
       "right": null,
       "top": null,
       "visibility": null,
       "width": null
      }
     },
     "3e6f939aeb284361a1cb56641803d1ff": {
      "model_module": "@jupyter-widgets/controls",
      "model_module_version": "1.5.0",
      "model_name": "FloatProgressModel",
      "state": {
       "_dom_classes": [],
       "_model_module": "@jupyter-widgets/controls",
       "_model_module_version": "1.5.0",
       "_model_name": "FloatProgressModel",
       "_view_count": null,
       "_view_module": "@jupyter-widgets/controls",
       "_view_module_version": "1.5.0",
       "_view_name": "ProgressView",
       "bar_style": "success",
       "description": "100%",
       "description_tooltip": null,
       "layout": "IPY_MODEL_02daa798243c4828a899e886c636420b",
       "max": 81.0,
       "min": 0.0,
       "orientation": "horizontal",
       "style": "IPY_MODEL_6ae80a60ebbd4c47aa3375376a918bf1",
       "value": 81.0
      }
     },
     "40b6d3c7f3f7497ba545daec3a1a34a8": {
      "model_module": "@jupyter-widgets/base",
      "model_module_version": "1.2.0",
      "model_name": "LayoutModel",
      "state": {
       "_model_module": "@jupyter-widgets/base",
       "_model_module_version": "1.2.0",
       "_model_name": "LayoutModel",
       "_view_count": null,
       "_view_module": "@jupyter-widgets/base",
       "_view_module_version": "1.2.0",
       "_view_name": "LayoutView",
       "align_content": null,
       "align_items": null,
       "align_self": null,
       "border": null,
       "bottom": null,
       "display": null,
       "flex": null,
       "flex_flow": null,
       "grid_area": null,
       "grid_auto_columns": null,
       "grid_auto_flow": null,
       "grid_auto_rows": null,
       "grid_column": null,
       "grid_gap": null,
       "grid_row": null,
       "grid_template_areas": null,
       "grid_template_columns": null,
       "grid_template_rows": null,
       "height": null,
       "justify_content": null,
       "justify_items": null,
       "left": null,
       "margin": null,
       "max_height": null,
       "max_width": null,
       "min_height": null,
       "min_width": null,
       "object_fit": null,
       "object_position": null,
       "order": null,
       "overflow": null,
       "overflow_x": null,
       "overflow_y": null,
       "padding": null,
       "right": null,
       "top": null,
       "visibility": null,
       "width": null
      }
     },
     "40b915d7f7e142ccbdb6a038bcff9f5d": {
      "model_module": "@jupyter-widgets/controls",
      "model_module_version": "1.5.0",
      "model_name": "HBoxModel",
      "state": {
       "_dom_classes": [],
       "_model_module": "@jupyter-widgets/controls",
       "_model_module_version": "1.5.0",
       "_model_name": "HBoxModel",
       "_view_count": null,
       "_view_module": "@jupyter-widgets/controls",
       "_view_module_version": "1.5.0",
       "_view_name": "HBoxView",
       "box_style": "",
       "children": [
        "IPY_MODEL_3e6f939aeb284361a1cb56641803d1ff",
        "IPY_MODEL_03ae950841264401b73d994677d65689"
       ],
       "layout": "IPY_MODEL_40b6d3c7f3f7497ba545daec3a1a34a8"
      }
     },
     "4e63d6cc06a049d0b13b0b058f75be94": {
      "model_module": "@jupyter-widgets/controls",
      "model_module_version": "1.5.0",
      "model_name": "HBoxModel",
      "state": {
       "_dom_classes": [],
       "_model_module": "@jupyter-widgets/controls",
       "_model_module_version": "1.5.0",
       "_model_name": "HBoxModel",
       "_view_count": null,
       "_view_module": "@jupyter-widgets/controls",
       "_view_module_version": "1.5.0",
       "_view_name": "HBoxView",
       "box_style": "",
       "children": [
        "IPY_MODEL_868337fd2b014b0ba2e0b9fb913da8dc",
        "IPY_MODEL_cfceb911d4554ba5bfc430857186ab4a"
       ],
       "layout": "IPY_MODEL_0dadd60243224e66845ccd36820a3784"
      }
     },
     "502a3f1c611d4f7ca7a01d6b2350e035": {
      "model_module": "@jupyter-widgets/controls",
      "model_module_version": "1.5.0",
      "model_name": "DescriptionStyleModel",
      "state": {
       "_model_module": "@jupyter-widgets/controls",
       "_model_module_version": "1.5.0",
       "_model_name": "DescriptionStyleModel",
       "_view_count": null,
       "_view_module": "@jupyter-widgets/base",
       "_view_module_version": "1.2.0",
       "_view_name": "StyleView",
       "description_width": ""
      }
     },
     "655d9a2d263b4b77b1081c5a478a32f5": {
      "model_module": "@jupyter-widgets/controls",
      "model_module_version": "1.5.0",
      "model_name": "HTMLModel",
      "state": {
       "_dom_classes": [],
       "_model_module": "@jupyter-widgets/controls",
       "_model_module_version": "1.5.0",
       "_model_name": "HTMLModel",
       "_view_count": null,
       "_view_module": "@jupyter-widgets/controls",
       "_view_module_version": "1.5.0",
       "_view_name": "HTMLView",
       "description": "",
       "description_tooltip": null,
       "layout": "IPY_MODEL_ec2b13b2ec884c3b8bd74de9dba88834",
       "placeholder": "​",
       "style": "IPY_MODEL_b2af04fbeced4228b58df33f574ee04d",
       "value": " 1000/1000 [00:13&lt;00:00, 73.47it/s]"
      }
     },
     "6ae80a60ebbd4c47aa3375376a918bf1": {
      "model_module": "@jupyter-widgets/controls",
      "model_module_version": "1.5.0",
      "model_name": "ProgressStyleModel",
      "state": {
       "_model_module": "@jupyter-widgets/controls",
       "_model_module_version": "1.5.0",
       "_model_name": "ProgressStyleModel",
       "_view_count": null,
       "_view_module": "@jupyter-widgets/base",
       "_view_module_version": "1.2.0",
       "_view_name": "StyleView",
       "bar_color": null,
       "description_width": "initial"
      }
     },
     "85dce0bc1dd64f6ea5f72b350a88ced1": {
      "model_module": "@jupyter-widgets/controls",
      "model_module_version": "1.5.0",
      "model_name": "ProgressStyleModel",
      "state": {
       "_model_module": "@jupyter-widgets/controls",
       "_model_module_version": "1.5.0",
       "_model_name": "ProgressStyleModel",
       "_view_count": null,
       "_view_module": "@jupyter-widgets/base",
       "_view_module_version": "1.2.0",
       "_view_name": "StyleView",
       "bar_color": null,
       "description_width": "initial"
      }
     },
     "868337fd2b014b0ba2e0b9fb913da8dc": {
      "model_module": "@jupyter-widgets/controls",
      "model_module_version": "1.5.0",
      "model_name": "FloatProgressModel",
      "state": {
       "_dom_classes": [],
       "_model_module": "@jupyter-widgets/controls",
       "_model_module_version": "1.5.0",
       "_model_name": "FloatProgressModel",
       "_view_count": null,
       "_view_module": "@jupyter-widgets/controls",
       "_view_module_version": "1.5.0",
       "_view_name": "ProgressView",
       "bar_style": "success",
       "description": "100%",
       "description_tooltip": null,
       "layout": "IPY_MODEL_34e92f52a8d74c168682c26bd4a1972d",
       "max": 10.0,
       "min": 0.0,
       "orientation": "horizontal",
       "style": "IPY_MODEL_85dce0bc1dd64f6ea5f72b350a88ced1",
       "value": 10.0
      }
     },
     "8dd5557fb0fa4ad1b0e4a5de4035fd6d": {
      "model_module": "@jupyter-widgets/base",
      "model_module_version": "1.2.0",
      "model_name": "LayoutModel",
      "state": {
       "_model_module": "@jupyter-widgets/base",
       "_model_module_version": "1.2.0",
       "_model_name": "LayoutModel",
       "_view_count": null,
       "_view_module": "@jupyter-widgets/base",
       "_view_module_version": "1.2.0",
       "_view_name": "LayoutView",
       "align_content": null,
       "align_items": null,
       "align_self": null,
       "border": null,
       "bottom": null,
       "display": null,
       "flex": null,
       "flex_flow": null,
       "grid_area": null,
       "grid_auto_columns": null,
       "grid_auto_flow": null,
       "grid_auto_rows": null,
       "grid_column": null,
       "grid_gap": null,
       "grid_row": null,
       "grid_template_areas": null,
       "grid_template_columns": null,
       "grid_template_rows": null,
       "height": null,
       "justify_content": null,
       "justify_items": null,
       "left": null,
       "margin": null,
       "max_height": null,
       "max_width": null,
       "min_height": null,
       "min_width": null,
       "object_fit": null,
       "object_position": null,
       "order": null,
       "overflow": null,
       "overflow_x": null,
       "overflow_y": null,
       "padding": null,
       "right": null,
       "top": null,
       "visibility": null,
       "width": null
      }
     },
     "980b98352dea402e98beecdd9d0a67a7": {
      "model_module": "@jupyter-widgets/base",
      "model_module_version": "1.2.0",
      "model_name": "LayoutModel",
      "state": {
       "_model_module": "@jupyter-widgets/base",
       "_model_module_version": "1.2.0",
       "_model_name": "LayoutModel",
       "_view_count": null,
       "_view_module": "@jupyter-widgets/base",
       "_view_module_version": "1.2.0",
       "_view_name": "LayoutView",
       "align_content": null,
       "align_items": null,
       "align_self": null,
       "border": null,
       "bottom": null,
       "display": null,
       "flex": null,
       "flex_flow": null,
       "grid_area": null,
       "grid_auto_columns": null,
       "grid_auto_flow": null,
       "grid_auto_rows": null,
       "grid_column": null,
       "grid_gap": null,
       "grid_row": null,
       "grid_template_areas": null,
       "grid_template_columns": null,
       "grid_template_rows": null,
       "height": null,
       "justify_content": null,
       "justify_items": null,
       "left": null,
       "margin": null,
       "max_height": null,
       "max_width": null,
       "min_height": null,
       "min_width": null,
       "object_fit": null,
       "object_position": null,
       "order": null,
       "overflow": null,
       "overflow_x": null,
       "overflow_y": null,
       "padding": null,
       "right": null,
       "top": null,
       "visibility": null,
       "width": null
      }
     },
     "b1f83ca399cc4fe0a7495e4de4f928ec": {
      "model_module": "@jupyter-widgets/controls",
      "model_module_version": "1.5.0",
      "model_name": "FloatProgressModel",
      "state": {
       "_dom_classes": [],
       "_model_module": "@jupyter-widgets/controls",
       "_model_module_version": "1.5.0",
       "_model_name": "FloatProgressModel",
       "_view_count": null,
       "_view_module": "@jupyter-widgets/controls",
       "_view_module_version": "1.5.0",
       "_view_name": "ProgressView",
       "bar_style": "success",
       "description": "100%",
       "description_tooltip": null,
       "layout": "IPY_MODEL_8dd5557fb0fa4ad1b0e4a5de4035fd6d",
       "max": 1000.0,
       "min": 0.0,
       "orientation": "horizontal",
       "style": "IPY_MODEL_cef5d123f4e5454d80d61f7c452e46b5",
       "value": 1000.0
      }
     },
     "b2af04fbeced4228b58df33f574ee04d": {
      "model_module": "@jupyter-widgets/controls",
      "model_module_version": "1.5.0",
      "model_name": "DescriptionStyleModel",
      "state": {
       "_model_module": "@jupyter-widgets/controls",
       "_model_module_version": "1.5.0",
       "_model_name": "DescriptionStyleModel",
       "_view_count": null,
       "_view_module": "@jupyter-widgets/base",
       "_view_module_version": "1.2.0",
       "_view_name": "StyleView",
       "description_width": ""
      }
     },
     "cef5d123f4e5454d80d61f7c452e46b5": {
      "model_module": "@jupyter-widgets/controls",
      "model_module_version": "1.5.0",
      "model_name": "ProgressStyleModel",
      "state": {
       "_model_module": "@jupyter-widgets/controls",
       "_model_module_version": "1.5.0",
       "_model_name": "ProgressStyleModel",
       "_view_count": null,
       "_view_module": "@jupyter-widgets/base",
       "_view_module_version": "1.2.0",
       "_view_name": "StyleView",
       "bar_color": null,
       "description_width": "initial"
      }
     },
     "cfceb911d4554ba5bfc430857186ab4a": {
      "model_module": "@jupyter-widgets/controls",
      "model_module_version": "1.5.0",
      "model_name": "HTMLModel",
      "state": {
       "_dom_classes": [],
       "_model_module": "@jupyter-widgets/controls",
       "_model_module_version": "1.5.0",
       "_model_name": "HTMLModel",
       "_view_count": null,
       "_view_module": "@jupyter-widgets/controls",
       "_view_module_version": "1.5.0",
       "_view_name": "HTMLView",
       "description": "",
       "description_tooltip": null,
       "layout": "IPY_MODEL_dfd9be7c237e4cdd88b21eb8b53aa3c5",
       "placeholder": "​",
       "style": "IPY_MODEL_502a3f1c611d4f7ca7a01d6b2350e035",
       "value": " 10/10 [00:17&lt;00:00,  1.74s/it]"
      }
     },
     "dfd9be7c237e4cdd88b21eb8b53aa3c5": {
      "model_module": "@jupyter-widgets/base",
      "model_module_version": "1.2.0",
      "model_name": "LayoutModel",
      "state": {
       "_model_module": "@jupyter-widgets/base",
       "_model_module_version": "1.2.0",
       "_model_name": "LayoutModel",
       "_view_count": null,
       "_view_module": "@jupyter-widgets/base",
       "_view_module_version": "1.2.0",
       "_view_name": "LayoutView",
       "align_content": null,
       "align_items": null,
       "align_self": null,
       "border": null,
       "bottom": null,
       "display": null,
       "flex": null,
       "flex_flow": null,
       "grid_area": null,
       "grid_auto_columns": null,
       "grid_auto_flow": null,
       "grid_auto_rows": null,
       "grid_column": null,
       "grid_gap": null,
       "grid_row": null,
       "grid_template_areas": null,
       "grid_template_columns": null,
       "grid_template_rows": null,
       "height": null,
       "justify_content": null,
       "justify_items": null,
       "left": null,
       "margin": null,
       "max_height": null,
       "max_width": null,
       "min_height": null,
       "min_width": null,
       "object_fit": null,
       "object_position": null,
       "order": null,
       "overflow": null,
       "overflow_x": null,
       "overflow_y": null,
       "padding": null,
       "right": null,
       "top": null,
       "visibility": null,
       "width": null
      }
     },
     "ec2b13b2ec884c3b8bd74de9dba88834": {
      "model_module": "@jupyter-widgets/base",
      "model_module_version": "1.2.0",
      "model_name": "LayoutModel",
      "state": {
       "_model_module": "@jupyter-widgets/base",
       "_model_module_version": "1.2.0",
       "_model_name": "LayoutModel",
       "_view_count": null,
       "_view_module": "@jupyter-widgets/base",
       "_view_module_version": "1.2.0",
       "_view_name": "LayoutView",
       "align_content": null,
       "align_items": null,
       "align_self": null,
       "border": null,
       "bottom": null,
       "display": null,
       "flex": null,
       "flex_flow": null,
       "grid_area": null,
       "grid_auto_columns": null,
       "grid_auto_flow": null,
       "grid_auto_rows": null,
       "grid_column": null,
       "grid_gap": null,
       "grid_row": null,
       "grid_template_areas": null,
       "grid_template_columns": null,
       "grid_template_rows": null,
       "height": null,
       "justify_content": null,
       "justify_items": null,
       "left": null,
       "margin": null,
       "max_height": null,
       "max_width": null,
       "min_height": null,
       "min_width": null,
       "object_fit": null,
       "object_position": null,
       "order": null,
       "overflow": null,
       "overflow_x": null,
       "overflow_y": null,
       "padding": null,
       "right": null,
       "top": null,
       "visibility": null,
       "width": null
      }
     },
     "fe7c0eed84c3451c821721535e0f1884": {
      "model_module": "@jupyter-widgets/controls",
      "model_module_version": "1.5.0",
      "model_name": "HBoxModel",
      "state": {
       "_dom_classes": [],
       "_model_module": "@jupyter-widgets/controls",
       "_model_module_version": "1.5.0",
       "_model_name": "HBoxModel",
       "_view_count": null,
       "_view_module": "@jupyter-widgets/controls",
       "_view_module_version": "1.5.0",
       "_view_name": "HBoxView",
       "box_style": "",
       "children": [
        "IPY_MODEL_b1f83ca399cc4fe0a7495e4de4f928ec",
        "IPY_MODEL_655d9a2d263b4b77b1081c5a478a32f5"
       ],
       "layout": "IPY_MODEL_980b98352dea402e98beecdd9d0a67a7"
      }
     }
    },
    "version_major": 2,
    "version_minor": 0
   }
  }
 },
 "nbformat": 4,
 "nbformat_minor": 4
}